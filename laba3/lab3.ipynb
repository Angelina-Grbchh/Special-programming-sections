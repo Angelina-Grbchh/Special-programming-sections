{
 "cells": [
  {
   "cell_type": "markdown",
   "metadata": {},
   "source": [
    "<p align=\"center\">Міністерство освіти і науки України НТУУ </p>\n",
    "<p align=\"center\">«Київський політехнічний інститут імені Ігоря Сікорського»</p>\n",
    "<p align=\"center\">Фізико-технічний інститут</p>"
   ]
  },
  {
   "cell_type": "markdown",
   "metadata": {},
   "source": [
    "\n",
    "<p align=\"center\"><strong>Спеціальні розділи програмування</strong></p>"
   ]
  },
  {
   "cell_type": "markdown",
   "metadata": {},
   "source": [
    "<p align=\"center\">Лаболаторна робота №3</p>"
   ]
  },
  {
   "cell_type": "markdown",
   "metadata": {},
   "source": [
    "<p align=\"right\">Виконав:</p>\n",
    "<p align=\"right\">Студент 2 курсу ФТІ</p>\n",
    "<p align=\"right\">Групи ФІ-31</p>\n",
    "\n",
    "<p align=\"right\">Горбач Ангеліна</strong></p>"
   ]
  },
  {
   "cell_type": "code",
   "execution_count": 1,
   "metadata": {},
   "outputs": [
    {
     "name": "stderr",
     "output_type": "stream",
     "text": [
      "WARNING:root:Warning: unable to set defaultencoding to utf-8\n"
     ]
    }
   ],
   "source": [
    "from spyre import server\n",
    "import os\n",
    "import re\n",
    "import urllib.request\n",
    "import matplotlib.pyplot as plt\n",
    "\n",
    "import seaborn as sns\n",
    "\n",
    "import __main__ as main\n",
    "main. __file__ =\"main_file\"\n",
    "\n",
    "import pandas as pd"
   ]
  },
  {
   "cell_type": "code",
   "execution_count": 2,
   "metadata": {},
   "outputs": [],
   "source": [
    "def load_vhi_data_from_directory(directory_path):\n",
    "    columns = ['Year', 'Week', 'SMN', 'SMT', 'VCI', 'TCI', 'VHI', 'empty']\n",
    "    all_data = []\n",
    "\n",
    "    for filename in os.listdir(directory_path):\n",
    "        if filename.endswith(\".csv\"):\n",
    "            file_path = os.path.join(directory_path, filename)\n",
    "            df = pd.read_csv(file_path, header=1, names=columns)\n",
    "            df = df.drop(df[df['VHI'] == -1].index)\n",
    "            province_id = filename.split('_')[2]\n",
    "            df['Province_ID'] = province_id\n",
    "            df = df.drop(columns=['empty']).dropna()\n",
    "\n",
    "            df['Year'] = df['Year'].astype(str).str.extract('(\\d+)', expand=False).astype(int)\n",
    "            df['Week'] = df['Week'].astype(int)\n",
    "            \n",
    "            all_data.append(df)\n",
    "\n",
    "    return pd.concat(all_data, ignore_index=True)"
   ]
  },
  {
   "cell_type": "code",
   "execution_count": 3,
   "metadata": {},
   "outputs": [],
   "source": [
    "directory = \"./Data\"\n",
    "vhi_data = load_vhi_data_from_directory(directory)\n",
    "# print(vhi_data.tail())"
   ]
  },
  {
   "cell_type": "code",
   "execution_count": 4,
   "metadata": {},
   "outputs": [],
   "source": [
    "class SimpleApp(server.App): \n",
    "    title = \"NOAA Data Visualization\"\n",
    "\n",
    "    inputs = [\n",
    "        {\n",
    "            \"type\": \"dropdown\",\n",
    "            \"label\": \"NOAA data dropdown\",\n",
    "            \"options\": [\n",
    "                {\"label\": \"VCI\", \"value\": \"VCI\"},\n",
    "                {\"label\": \"TCI\", \"value\": \"TCI\"},\n",
    "                {\"label\": \"VHI\", \"value\": \"VHI\"},\n",
    "            ],\n",
    "            \"key\": \"ticker\",\n",
    "            \"value\": \"VHI\",\n",
    "            \"action_id\": \"update_data\"\n",
    "        },\n",
    "        {\n",
    "            \"type\": \"dropdown\",\n",
    "            \"label\": \"NOAA A\",\n",
    "            \"options\": [\n",
    "                {\"label\": \"1: Cherkasy\", \"value\": 1},\n",
    "                {\"label\": \"2: Chernivtsi\", \"value\": 2},\n",
    "                {\"label\": \"3: Chernihiv\", \"value\": 3},\n",
    "                {\"label\": \"4: Crimea\", \"value\": 4},\n",
    "                {\"label\": \"5: Dnipropetrovsk\", \"value\": 5},\n",
    "                {\"label\": \"6: Donetsk\", \"value\": 6},\n",
    "                {\"label\": \"7: Ivano-Frankivsk\", \"value\": 7},\n",
    "                {\"label\": \"8: Kharkiv\", \"value\": 8},\n",
    "                {\"label\": \"9: Kherson\", \"value\": 9},\n",
    "                {\"label\": \"10: Khmelnytsky\", \"value\": 10},\n",
    "                {\"label\": \"11: Kiev\", \"value\": 11},\n",
    "                {\"label\": \"12: Kiev City\", \"value\": 12},\n",
    "                {\"label\": \"13: Kirovohrad\", \"value\": 13},\n",
    "                {\"label\": \"14: Luhansk\", \"value\": 14},\n",
    "                {\"label\": \"15: Lviv\", \"value\": 15},\n",
    "                {\"label\": \"16: Mykolaiv\", \"value\": 16},\n",
    "                {\"label\": \"17: Odessa\", \"value\": 17},\n",
    "                {\"label\": \"18: Poltava\", \"value\": 18},\n",
    "                {\"label\": \"19: Rivne\", \"value\": 19},\n",
    "                {\"label\": \"20: Sevastopol\", \"value\": 20},\n",
    "                {\"label\": \"21: Sumy\", \"value\": 21},\n",
    "                {\"label\": \"22: Ternopil\", \"value\": 22},\n",
    "                {\"label\": \"23: Transcarpathia\", \"value\": 23},\n",
    "                {\"label\": \"24: Vinnytsya\", \"value\": 24},\n",
    "                {\"label\": \"25: Volyn\", \"value\": 25},\n",
    "                {\"label\": \"26: Zaporizhzhya\", \"value\": 26},\n",
    "            ],\n",
    "            \"key\": \"area\",\n",
    "            \"value\": 15,\n",
    "            \"action_id\": \"update_data\"\n",
    "        },\n",
    "        {\n",
    "            \"type\": \"text\",\n",
    "            \"label\": \"Year Range\",\n",
    "            \"value\": \"2000-2005\",\n",
    "            \"key\": \"year_range\",\n",
    "            \"action_id\": \"update_data\"\n",
    "        },\n",
    "        {\n",
    "            \"type\": \"text\",\n",
    "            \"label\": \"Week Interval\",\n",
    "            \"value\": \"1,5\",\n",
    "            \"key\": \"week\",\n",
    "            \"action_id\": \"update_data\"\n",
    "        }\n",
    "    ]\n",
    "    \n",
    "    controls = [{\"control_type\": \"hidden\", \"label\": \"NOAA\", \"control_id\": \"update_data\"}]\n",
    "    tabs = [\"Plot\", \"Table\"]\n",
    "    outputs = [\n",
    "        {\"type\": \"plot\", \"id\": \"plot\", \"control_id\": \"update_data\", \"tab\": \"Plot\"},\n",
    "        {\"type\": \"table\", \"id\": \"table_id\", \"control_id\": \"update_data\", \"tab\": \"Table\", \"on_page_load\": True}\n",
    "    ]\n",
    "\n",
    "    def getData(self, params):\n",
    "        ticker = params[\"ticker\"]\n",
    "        area = int(params[\"area\"])\n",
    "        \n",
    "        year_start, year_end = map(int, params[\"year_range\"].split('-'))\n",
    "        \n",
    "        week_range = [int(w) for w in params[\"week\"].split(\",\")]\n",
    "        \n",
    "        filtered_df = vhi_data[\n",
    "            (vhi_data[\"Province_ID\"] == str(area)) &\n",
    "            (vhi_data[\"Year\"] >= year_start) & (vhi_data[\"Year\"] <= year_end) &\n",
    "            (vhi_data[\"Week\"] >= week_range[0]) & (vhi_data[\"Week\"] <= week_range[1])\n",
    "        ]\n",
    "        \n",
    "        return filtered_df[[\"Year\", \"Week\", ticker]]\n",
    "\n",
    "    \n",
    "    def getPlot(self, params):\n",
    "        data = self.getData(params)\n",
    "        ticker = params[\"ticker\"]\n",
    "\n",
    "        sns.set_theme(style=\"darkgrid\")\n",
    "        plt.figure(figsize=(12, 6))\n",
    "\n",
    "        unique_years = data[\"Year\"].unique()\n",
    "\n",
    "        for year in unique_years:\n",
    "            year_data = data[data[\"Year\"] == year]\n",
    "            sns.lineplot(\n",
    "                x=year_data[\"Week\"], \n",
    "                y=year_data[ticker], \n",
    "                label=str(year)\n",
    "            )\n",
    "\n",
    "        plt.xlabel(\"Week\")\n",
    "        plt.ylabel(ticker)\n",
    "        plt.legend(title=\"Year\", loc='upper left')\n",
    "        plt.grid(True)\n",
    "        plt.tight_layout()\n",
    "\n",
    "        fig = plt.gcf()\n",
    "        return fig\n"
   ]
  },
  {
   "cell_type": "code",
   "execution_count": null,
   "metadata": {},
   "outputs": [
    {
     "name": "stderr",
     "output_type": "stream",
     "text": [
      "[18/Nov/2024:11:04:56] ENGINE Listening for SIGTERM.\n",
      "INFO:cherrypy.error:[18/Nov/2024:11:04:56] ENGINE Listening for SIGTERM.\n",
      "[18/Nov/2024:11:04:56] ENGINE Bus STARTING\n",
      "INFO:cherrypy.error:[18/Nov/2024:11:04:56] ENGINE Bus STARTING\n",
      "CherryPy Checker:\n",
      "The Application mounted at '' has an empty config.\n",
      "\n",
      "[18/Nov/2024:11:04:56] ENGINE Set handler for console events.\n",
      "INFO:cherrypy.error:[18/Nov/2024:11:04:56] ENGINE Set handler for console events.\n"
     ]
    },
    {
     "name": "stderr",
     "output_type": "stream",
     "text": [
      "[18/Nov/2024:11:04:56] ENGINE Started monitor thread 'Autoreloader'.\n",
      "INFO:cherrypy.error:[18/Nov/2024:11:04:56] ENGINE Started monitor thread 'Autoreloader'.\n",
      "[18/Nov/2024:11:04:56] ENGINE Serving on http://127.0.0.1:8080\n",
      "INFO:cherrypy.error:[18/Nov/2024:11:04:56] ENGINE Serving on http://127.0.0.1:8080\n",
      "[18/Nov/2024:11:04:56] ENGINE Bus STARTED\n",
      "INFO:cherrypy.error:[18/Nov/2024:11:04:56] ENGINE Bus STARTED\n"
     ]
    },
    {
     "name": "stdout",
     "output_type": "stream",
     "text": [
      "127.0.0.1 - - [18/Nov/2024:11:04:57] \"GET / HTTP/1.1\" 200 442307 \"\" \"Mozilla/5.0 (Windows NT 10.0; Win64; x64) AppleWebKit/537.36 (KHTML, like Gecko) Chrome/130.0.0.0 Safari/537.36\"\n"
     ]
    },
    {
     "name": "stderr",
     "output_type": "stream",
     "text": [
      "INFO:cherrypy.access.2245653387088:127.0.0.1 - - [18/Nov/2024:11:04:57] \"GET / HTTP/1.1\" 200 442307 \"\" \"Mozilla/5.0 (Windows NT 10.0; Win64; x64) AppleWebKit/537.36 (KHTML, like Gecko) Chrome/130.0.0.0 Safari/537.36\"\n"
     ]
    },
    {
     "name": "stdout",
     "output_type": "stream",
     "text": [
      "127.0.0.1 - - [18/Nov/2024:11:04:58] \"GET /spinning_wheel HTTP/1.1\" 200 2663 \"http://127.0.0.1:8080/\" \"Mozilla/5.0 (Windows NT 10.0; Win64; x64) AppleWebKit/537.36 (KHTML, like Gecko) Chrome/130.0.0.0 Safari/537.36\"\n"
     ]
    },
    {
     "name": "stderr",
     "output_type": "stream",
     "text": [
      "INFO:cherrypy.access.2245653387088:127.0.0.1 - - [18/Nov/2024:11:04:58] \"GET /spinning_wheel HTTP/1.1\" 200 2663 \"http://127.0.0.1:8080/\" \"Mozilla/5.0 (Windows NT 10.0; Win64; x64) AppleWebKit/537.36 (KHTML, like Gecko) Chrome/130.0.0.0 Safari/537.36\"\n"
     ]
    },
    {
     "name": "stdout",
     "output_type": "stream",
     "text": [
      "127.0.0.1 - - [18/Nov/2024:11:04:58] \"GET /table?ticker=VHI&area=15&year_range=2000-2005&week=1,5&output_id=table_id& HTTP/1.1\" 200 6546 \"http://127.0.0.1:8080/\" \"Mozilla/5.0 (Windows NT 10.0; Win64; x64) AppleWebKit/537.36 (KHTML, like Gecko) Chrome/130.0.0.0 Safari/537.36\"\n"
     ]
    },
    {
     "name": "stderr",
     "output_type": "stream",
     "text": [
      "INFO:cherrypy.access.2245653387088:127.0.0.1 - - [18/Nov/2024:11:04:58] \"GET /table?ticker=VHI&area=15&year_range=2000-2005&week=1,5&output_id=table_id& HTTP/1.1\" 200 6546 \"http://127.0.0.1:8080/\" \"Mozilla/5.0 (Windows NT 10.0; Win64; x64) AppleWebKit/537.36 (KHTML, like Gecko) Chrome/130.0.0.0 Safari/537.36\"\n",
      "ERROR:root:Error: getPlot method must return an pyplot figure or matplotlib Axes object\n"
     ]
    },
    {
     "name": "stdout",
     "output_type": "stream",
     "text": [
      "127.0.0.1 - - [18/Nov/2024:11:04:59] \"GET /plot?ticker=VHI&area=15&year_range=2000-2005&week=1,5&output_id=plot& HTTP/1.1\" 200 47368 \"http://127.0.0.1:8080/\" \"Mozilla/5.0 (Windows NT 10.0; Win64; x64) AppleWebKit/537.36 (KHTML, like Gecko) Chrome/130.0.0.0 Safari/537.36\"\n"
     ]
    },
    {
     "name": "stderr",
     "output_type": "stream",
     "text": [
      "INFO:cherrypy.access.2245653387088:127.0.0.1 - - [18/Nov/2024:11:04:59] \"GET /plot?ticker=VHI&area=15&year_range=2000-2005&week=1,5&output_id=plot& HTTP/1.1\" 200 47368 \"http://127.0.0.1:8080/\" \"Mozilla/5.0 (Windows NT 10.0; Win64; x64) AppleWebKit/537.36 (KHTML, like Gecko) Chrome/130.0.0.0 Safari/537.36\"\n"
     ]
    },
    {
     "name": "stdout",
     "output_type": "stream",
     "text": [
      "127.0.0.1 - - [18/Nov/2024:11:05:07] \"GET / HTTP/1.1\" 200 442307 \"\" \"Mozilla/5.0 (Windows NT 10.0; Win64; x64) AppleWebKit/537.36 (KHTML, like Gecko) Chrome/130.0.0.0 Safari/537.36\"\n"
     ]
    },
    {
     "name": "stderr",
     "output_type": "stream",
     "text": [
      "INFO:cherrypy.access.2245653387088:127.0.0.1 - - [18/Nov/2024:11:05:07] \"GET / HTTP/1.1\" 200 442307 \"\" \"Mozilla/5.0 (Windows NT 10.0; Win64; x64) AppleWebKit/537.36 (KHTML, like Gecko) Chrome/130.0.0.0 Safari/537.36\"\n"
     ]
    },
    {
     "name": "stdout",
     "output_type": "stream",
     "text": [
      "127.0.0.1 - - [18/Nov/2024:11:05:08] \"GET /table?ticker=VHI&area=15&year_range=2000-2005&week=1,5&output_id=table_id& HTTP/1.1\" 200 6546 \"http://127.0.0.1:8080/\" \"Mozilla/5.0 (Windows NT 10.0; Win64; x64) AppleWebKit/537.36 (KHTML, like Gecko) Chrome/130.0.0.0 Safari/537.36\"\n"
     ]
    },
    {
     "name": "stderr",
     "output_type": "stream",
     "text": [
      "INFO:cherrypy.access.2245653387088:127.0.0.1 - - [18/Nov/2024:11:05:08] \"GET /table?ticker=VHI&area=15&year_range=2000-2005&week=1,5&output_id=table_id& HTTP/1.1\" 200 6546 \"http://127.0.0.1:8080/\" \"Mozilla/5.0 (Windows NT 10.0; Win64; x64) AppleWebKit/537.36 (KHTML, like Gecko) Chrome/130.0.0.0 Safari/537.36\"\n"
     ]
    },
    {
     "name": "stdout",
     "output_type": "stream",
     "text": [
      "127.0.0.1 - - [18/Nov/2024:11:05:08] \"GET /spinning_wheel HTTP/1.1\" 200 2663 \"http://127.0.0.1:8080/\" \"Mozilla/5.0 (Windows NT 10.0; Win64; x64) AppleWebKit/537.36 (KHTML, like Gecko) Chrome/130.0.0.0 Safari/537.36\"\n"
     ]
    },
    {
     "name": "stderr",
     "output_type": "stream",
     "text": [
      "INFO:cherrypy.access.2245653387088:127.0.0.1 - - [18/Nov/2024:11:05:08] \"GET /spinning_wheel HTTP/1.1\" 200 2663 \"http://127.0.0.1:8080/\" \"Mozilla/5.0 (Windows NT 10.0; Win64; x64) AppleWebKit/537.36 (KHTML, like Gecko) Chrome/130.0.0.0 Safari/537.36\"\n",
      "ERROR:root:Error: getPlot method must return an pyplot figure or matplotlib Axes object\n"
     ]
    },
    {
     "name": "stdout",
     "output_type": "stream",
     "text": [
      "127.0.0.1 - - [18/Nov/2024:11:05:09] \"GET /plot?ticker=VHI&area=15&year_range=2000-2005&week=1,5&output_id=plot& HTTP/1.1\" 200 47368 \"http://127.0.0.1:8080/\" \"Mozilla/5.0 (Windows NT 10.0; Win64; x64) AppleWebKit/537.36 (KHTML, like Gecko) Chrome/130.0.0.0 Safari/537.36\"\n"
     ]
    },
    {
     "name": "stderr",
     "output_type": "stream",
     "text": [
      "INFO:cherrypy.access.2245653387088:127.0.0.1 - - [18/Nov/2024:11:05:09] \"GET /plot?ticker=VHI&area=15&year_range=2000-2005&week=1,5&output_id=plot& HTTP/1.1\" 200 47368 \"http://127.0.0.1:8080/\" \"Mozilla/5.0 (Windows NT 10.0; Win64; x64) AppleWebKit/537.36 (KHTML, like Gecko) Chrome/130.0.0.0 Safari/537.36\"\n"
     ]
    }
   ],
   "source": [
    "app = SimpleApp()\n",
    "app.launch() "
   ]
  }
 ],
 "metadata": {
  "kernelspec": {
   "display_name": "Python 3",
   "language": "python",
   "name": "python3"
  },
  "language_info": {
   "codemirror_mode": {
    "name": "ipython",
    "version": 3
   },
   "file_extension": ".py",
   "mimetype": "text/x-python",
   "name": "python",
   "nbconvert_exporter": "python",
   "pygments_lexer": "ipython3",
   "version": "3.11.4"
  }
 },
 "nbformat": 4,
 "nbformat_minor": 2
}
