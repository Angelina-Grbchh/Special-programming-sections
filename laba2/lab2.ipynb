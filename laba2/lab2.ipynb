{
 "cells": [
  {
   "cell_type": "markdown",
   "metadata": {},
   "source": [
    "<p align=\"center\">Міністерство освіти і науки України НТУУ </p>\n",
    "<p align=\"center\">«Київський політехнічний інститут імені Ігоря Сікорського»</p>\n",
    "<p align=\"center\">Фізико-технічний інститут</p>"
   ]
  },
  {
   "cell_type": "markdown",
   "metadata": {},
   "source": [
    "\n",
    "<p align=\"center\"><strong>Спеціальні розділи програмування</strong></p>"
   ]
  },
  {
   "cell_type": "markdown",
   "metadata": {},
   "source": [
    "<p align=\"center\">Лаболаторна робота №2</p>"
   ]
  },
  {
   "cell_type": "markdown",
   "metadata": {},
   "source": [
    "<p align=\"right\">Виконав:</p>\n",
    "<p align=\"right\">Студент 2 курсу ФТІ</p>\n",
    "<p align=\"right\">Групи ФІ-31</p>\n",
    "\n",
    "<p align=\"right\">Горбач Ангеліна</strong></p>"
   ]
  },
  {
   "cell_type": "markdown",
   "metadata": {},
   "source": [
    "# Item 2"
   ]
  },
  {
   "cell_type": "code",
   "execution_count": 66,
   "metadata": {},
   "outputs": [],
   "source": [
    "import urllib.request\n",
    "from datetime import datetime\n",
    "\n",
    "def download_vhi_data(province_id):\n",
    "    url = f'https://www.star.nesdis.noaa.gov/smcd/emb/vci/VH/get_TS_admin.php?country=UKR&provinceID={province_id}&year1=1981&year2=2024&type=Mean'\n",
    "    \n",
    "    now = datetime.now()\n",
    "    date_and_time = now.strftime(\"%d%m%Y%H%M%S\")\n",
    "    \n",
    "    response = urllib.request.urlopen(url)\n",
    "    data = response.read()\n",
    "\n",
    "    filename = f'vhi_ID_{province_id}_{date_and_time}.csv'\n",
    "    with open(filename, 'wb') as file:\n",
    "        file.write(data)\n",
    "\n",
    "    print(f\"Дані для області {province_id} збережені у файл: {filename}\")\n",
    "\n",
    "for province_id in range(1, 26):\n",
    "     download_vhi_data(province_id)\n"
   ]
  },
  {
   "cell_type": "markdown",
   "metadata": {},
   "source": [
    "# Item 3"
   ]
  },
  {
   "cell_type": "code",
   "execution_count": 67,
   "metadata": {},
   "outputs": [
    {
     "name": "stdout",
     "output_type": "stream",
     "text": [
      "        Year  Week    SMN     SMT    VCI   TCI    VHI Province_ID\n",
      "163045  2024  36.0  0.179  303.63  26.33  9.65  18.00           9\n",
      "163046  2024  37.0  0.173  302.32  26.98  7.14  17.08           9\n",
      "163047  2024  38.0  0.168  301.00  28.54  4.92  16.74           9\n",
      "163048  2024  39.0  0.163  299.44  31.24  2.78  17.02           9\n",
      "163049  2024  40.0  0.160  297.71  34.48  1.43  17.96           9\n"
     ]
    }
   ],
   "source": [
    "import pandas as pd\n",
    "import os\n",
    "def load_vhi_data_from_directory(directory_path):\n",
    "    columns = ['Year', 'Week', 'SMN', 'SMT', 'VCI', 'TCI', 'VHI', 'empty']\n",
    "    \n",
    "    all_data = []\n",
    "\n",
    "    for filename in os.listdir(directory_path):\n",
    "        if filename.endswith(\".csv\"):\n",
    "            file_path = os.path.join(directory_path, filename)\n",
    "            \n",
    "            df = pd.read_csv(file_path, header=1, names=columns)\n",
    "            df = df.drop(df[df['VHI'] == -1].index)\n",
    "        \n",
    "            province_id = filename.split('_')[2]\n",
    "            df['Province_ID'] = province_id\n",
    "                  \n",
    "        \n",
    "\n",
    "            df=df.drop(columns=['empty'])\n",
    "            df['Year']=df['Year'].str.replace('<tt><pre>', '')\n",
    "\n",
    "            df=df.dropna()\n",
    "\n",
    "            all_data.append(df)\n",
    "\n",
    "        \n",
    "    \n",
    "    combined_data = pd.concat(all_data, ignore_index=True)\n",
    "    \n",
    "    return combined_data\n",
    "\n",
    "directory = r'C:\\Users\\angel\\OneDrive\\Робочий стіл\\123\\lab_2'\n",
    "vhi_data = load_vhi_data_from_directory(directory)\n",
    "\n",
    "\n",
    "print(vhi_data.tail())\n"
   ]
  },
  {
   "cell_type": "markdown",
   "metadata": {},
   "source": [
    "# Task 4"
   ]
  },
  {
   "cell_type": "code",
   "execution_count": 68,
   "metadata": {},
   "outputs": [
    {
     "name": "stdout",
     "output_type": "stream",
     "text": [
      "Оновлені індекси областей:\n",
      "        Province_ID      Province_Name\n",
      "0               10     Кіровоградська\n",
      "6522            11          Луганська\n",
      "13044           12          Львівська\n",
      "19566           13       Миколаївська\n",
      "26088           14            Одеська\n",
      "32610           15         Полтавська\n",
      "39132           16          Рівенська\n",
      "45654           17            Сумська\n",
      "52176           18      Тернопільська\n",
      "58698           19         Харківська\n",
      "65220            1          Вінницька\n",
      "71742           20         Херсонська\n",
      "78264           21        Хмельницька\n",
      "84786           22          Черкаська\n",
      "91308           23        Чернівецька\n",
      "97830           24       Чернігівська\n",
      "104352          25    Республіка Крим\n",
      "110874           2          Волинська\n",
      "117396           3   Дніпропетровська\n",
      "123918           4           Донецька\n",
      "130440           5        Житомирська\n",
      "136962           6       Закарпатська\n",
      "143484           7         Запорізька\n",
      "150006           8  Івано-Франківська\n",
      "156528           9           Київська\n"
     ]
    }
   ],
   "source": [
    "\n",
    "province_mapping = {\n",
    "    '1': 'Вінницька', '2': 'Волинська', '3': 'Дніпропетровська', \n",
    "    '4': 'Донецька', '5': 'Житомирська', '6': 'Закарпатська', \n",
    "    '7': 'Запорізька', '8': 'Івано-Франківська', '9': 'Київська', \n",
    "    '10': 'Кіровоградська', '11': 'Луганська', '12': 'Львівська', \n",
    "    '13': 'Миколаївська', '14': 'Одеська', '15': 'Полтавська', \n",
    "    '16': 'Рівенська', '17': 'Сумська', '18': 'Тернопільська', \n",
    "    '19': 'Харківська', '20': 'Херсонська', '21': 'Хмельницька', \n",
    "    '22': 'Черкаська', '23': 'Чернівецька', '24': 'Чернігівська', \n",
    "    '25': 'Республіка Крим'\n",
    "}\n",
    "\n",
    "def update_province_indices(df):\n",
    "    df['Province_Name'] = df['Province_ID'].replace(province_mapping)\n",
    "    return df\n",
    "\n",
    "vhi_data = update_province_indices(vhi_data)\n",
    "print(\"Оновлені індекси областей:\\n\", vhi_data[['Province_ID', 'Province_Name']].drop_duplicates())"
   ]
  },
  {
   "cell_type": "markdown",
   "metadata": {},
   "source": [
    "## Task 5.1\n"
   ]
  },
  {
   "cell_type": "markdown",
   "metadata": {},
   "source": [
    "Ряд VHI для області за вказаний рік;"
   ]
  },
  {
   "cell_type": "code",
   "execution_count": 69,
   "metadata": {},
   "outputs": [],
   "source": [
    "def vhi_region(index_region, year):\n",
    "    result = vhi_data[(vhi_data['Province_ID'] == index_region) & (vhi_data['Year'] == year)][['Year', 'VHI', 'Province_ID']]\n",
    "    return result\n"
   ]
  },
  {
   "cell_type": "code",
   "execution_count": 70,
   "metadata": {},
   "outputs": [
    {
     "name": "stdout",
     "output_type": "stream",
     "text": [
      "       Year    VHI Province_ID\n",
      "27235  2005  72.33          14\n",
      "27236  2005  73.85          14\n",
      "27237  2005  73.49          14\n",
      "27238  2005  72.25          14\n",
      "27239  2005  69.86          14\n",
      "...     ...    ...         ...\n",
      "31629  2005  36.83          14\n",
      "31630  2005  38.98          14\n",
      "31631  2005  39.76          14\n",
      "31632  2005  41.39          14\n",
      "31633  2005  43.90          14\n",
      "\n",
      "[153 rows x 3 columns]\n"
     ]
    }
   ],
   "source": [
    "print(vhi_region(\"14\", \"2005\"))"
   ]
  },
  {
   "cell_type": "markdown",
   "metadata": {},
   "source": [
    "## Task 5.2"
   ]
  },
  {
   "cell_type": "markdown",
   "metadata": {},
   "source": [
    "Пошук екстремумів (min та max) для вказаних областей та років,\n",
    "середнього, медіани;"
   ]
  },
  {
   "cell_type": "code",
   "execution_count": 71,
   "metadata": {},
   "outputs": [
    {
     "name": "stdout",
     "output_type": "stream",
     "text": [
      "Extremes:\n",
      "Min: 6.26\n",
      "Max: 96.18\n",
      "Mean: 47.14389692585895\n",
      "Median: 45.504999999999995\n"
     ]
    }
   ],
   "source": [
    "def extreme(year, regions):\n",
    "    vhi_data['Year'] = pd.to_numeric(vhi_data['Year'], errors='coerce')\n",
    "    vhi_data['Province_ID'] = pd.to_numeric(vhi_data['Province_ID'], errors='coerce')\n",
    "    data = vhi_data[(vhi_data['Year'] >= year[0]) & \n",
    "                    (vhi_data['Year'] <= year[1]) & \n",
    "                    (vhi_data['Province_ID'] >= regions[0]) & \n",
    "                    (vhi_data['Province_ID'] <= regions[1])]\n",
    "\n",
    "    min_v = data['VHI'].min()\n",
    "    max_v = data['VHI'].max()\n",
    "    mean_v = data['VHI'].mean()\n",
    "    median_v = data['VHI'].median()\n",
    "\n",
    "    return (f\"Extremes:\\nMin: {min_v}\\nMax: {max_v}\\nMean: {mean_v}\\nMedian: {median_v}\")\n",
    "\n",
    "\n",
    "print(extreme([1990, 2000], [5, 10]))\n"
   ]
  },
  {
   "cell_type": "markdown",
   "metadata": {},
   "source": [
    "## Task 5.3"
   ]
  },
  {
   "cell_type": "markdown",
   "metadata": {},
   "source": [
    "Ряд VHI за вказаний діапазон років для вказаних областей;"
   ]
  },
  {
   "cell_type": "code",
   "execution_count": 72,
   "metadata": {},
   "outputs": [
    {
     "name": "stdout",
     "output_type": "stream",
     "text": [
      "        Year    VHI  Province_ID\n",
      "124827  2000  36.23            4\n",
      "124826  2000  35.84            4\n",
      "124825  2000  35.78            4\n",
      "129385  2004  51.14            4\n",
      "129384  2004  50.47            4\n",
      "...      ...    ...          ...\n",
      "18508   2004  70.56           12\n",
      "18507   2004  74.02           12\n",
      "13952   2000  25.44           12\n",
      "13951   2000  23.11           12\n",
      "13950   2000  18.21           12\n",
      "\n",
      "[6507 rows x 3 columns]\n"
     ]
    }
   ],
   "source": [
    "def range(year, region):\n",
    "    \n",
    "    data = vhi_data[(vhi_data['Year'] >= year[0]) & (vhi_data['Year'] <= year[1]) & \n",
    "                    (vhi_data['Province_ID'] >= region[0]) & (vhi_data['Province_ID'] <= region[1])]\n",
    "    \n",
    "    filtered_data = data.sort_values(by=\"Province_ID\")\n",
    "    return filtered_data [['Year','VHI','Province_ID']]\n",
    "\n",
    "print(range([2000, 2004], [4, 12]))"
   ]
  },
  {
   "cell_type": "markdown",
   "metadata": {},
   "source": [
    "## Task 5.4"
   ]
  },
  {
   "cell_type": "markdown",
   "metadata": {},
   "source": [
    "Для всього набору даних виявити роки, протягом яких екстремальні\n",
    "посухи торкнулися більше вказаного відсотка областей по Україні (20%\n",
    "областей - 5 областей з 25). Повернути роки, назви областей з\n",
    "екстремальними посухами та значення VHI;"
   ]
  },
  {
   "cell_type": "code",
   "execution_count": 73,
   "metadata": {},
   "outputs": [],
   "source": [
    "def droughts(vhi_data, percent):\n",
    "\n",
    "    count = int((percent * 25) / 100)\n",
    "    drought = vhi_data[(vhi_data['VHI'] < 15)&(vhi_data['VHI']!=-1)]\n",
    "    number_of_regions = drought.groupby(by='Year')['Province_ID'].count()\n",
    "    years_d = number_of_regions[number_of_regions > count].index\n",
    "    \n",
    "    result = drought[drought['Year'].isin(years_d)][['Year', 'Province_ID', 'VHI']]\n",
    "    return result\n",
    "\n"
   ]
  },
  {
   "cell_type": "code",
   "execution_count": 74,
   "metadata": {},
   "outputs": [
    {
     "name": "stdout",
     "output_type": "stream",
     "text": [
      "        Year  Province_ID    VHI\n",
      "7471    2000           11  12.51\n",
      "7472    2000           11  10.60\n",
      "7473    2000           11  11.20\n",
      "7474    2000           11  12.32\n",
      "7475    2000           11  14.65\n",
      "...      ...          ...    ...\n",
      "162154  2007            9  12.96\n",
      "162155  2007            9  13.48\n",
      "162156  2007            9  14.05\n",
      "162157  2007            9  14.41\n",
      "162158  2007            9  14.81\n",
      "\n",
      "[309 rows x 3 columns]\n"
     ]
    }
   ],
   "source": [
    "print(droughts(vhi_data, 20))"
   ]
  }
 ],
 "metadata": {
  "kernelspec": {
   "display_name": "Python 3",
   "language": "python",
   "name": "python3"
  },
  "language_info": {
   "codemirror_mode": {
    "name": "ipython",
    "version": 3
   },
   "file_extension": ".py",
   "mimetype": "text/x-python",
   "name": "python",
   "nbconvert_exporter": "python",
   "pygments_lexer": "ipython3",
   "version": "3.12.6"
  }
 },
 "nbformat": 4,
 "nbformat_minor": 2
}
